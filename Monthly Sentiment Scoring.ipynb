{
 "cells": [
  {
   "cell_type": "markdown",
   "id": "b7f68ab3",
   "metadata": {},
   "source": [
    "# 3: Monthly Sentiment Scoring"
   ]
  },
  {
   "cell_type": "code",
   "execution_count": 14,
   "id": "e32e3d56",
   "metadata": {},
   "outputs": [],
   "source": [
    "# import libraries for the analysis\n",
    "import numpy as np\n",
    "import pandas as pd\n",
    "import matplotlib.pyplot as plt\n",
    "import seaborn as sns"
   ]
  },
  {
   "cell_type": "code",
   "execution_count": 15,
   "id": "d64646e7",
   "metadata": {},
   "outputs": [
    {
     "data": {
      "text/plain": [
       "0       1\n",
       "1      -1\n",
       "2       0\n",
       "3      -1\n",
       "4      -1\n",
       "       ..\n",
       "2043    1\n",
       "2044    1\n",
       "2045    1\n",
       "2046    0\n",
       "2047    0\n",
       "Name: sentiment_score, Length: 2048, dtype: int64"
      ]
     },
     "execution_count": 15,
     "metadata": {},
     "output_type": "execute_result"
    }
   ],
   "source": [
    "# Load the dataset\n",
    "df = pd.read_csv(\"test_labeled_1.csv\")\n",
    "df.head()\n",
    "\n",
    "# monthly sentiment score for each employee based on their messages.\n",
    "# Define sentiment scoring function\n",
    "def assign_sentiment_score(sentiment):\n",
    "    if sentiment == \"Positive\":\n",
    "        return 1\n",
    "    elif sentiment == \"Negative\":\n",
    "        return -1\n",
    "    else:\n",
    "        return 0 \n",
    "\n",
    "# Apply the scoring function\n",
    "df[\"sentiment_score\"] = df[\"sentiment\"].apply(assign_sentiment_score)\n",
    "df[\"sentiment_score\"]"
   ]
  },
  {
   "cell_type": "code",
   "execution_count": 16,
   "id": "037adc3f",
   "metadata": {},
   "outputs": [
    {
     "name": "stdout",
     "output_type": "stream",
     "text": [
      "                          from year_month  sentiment_score\n",
      "0  bobette.riner@ipgdirect.com    2010-01                2\n",
      "1  bobette.riner@ipgdirect.com    2010-02                6\n",
      "2  bobette.riner@ipgdirect.com    2010-03                3\n",
      "3  bobette.riner@ipgdirect.com    2010-04                4\n",
      "4  bobette.riner@ipgdirect.com    2010-05                1\n"
     ]
    }
   ],
   "source": [
    "# Extract year and month for grouping\n",
    "df['date'] = pd.to_datetime(df['date'])\n",
    "df[\"year_month\"] = df[\"date\"].dt.to_period(\"M\")\n",
    " \n",
    "\n",
    "# Aggregate scores per employee per month\n",
    "monthly_scores = df.groupby([\"from\", \"year_month\"])[\"sentiment_score\"].sum().reset_index()\n",
    "\n",
    "print(monthly_scores.head())"
   ]
  },
  {
   "cell_type": "code",
   "execution_count": 17,
   "id": "956e6fc2",
   "metadata": {},
   "outputs": [
    {
     "name": "stdout",
     "output_type": "stream",
     "text": [
      "                          from year_month  monthly_sentiment_score\n",
      "0  bobette.riner@ipgdirect.com    2010-01                        2\n",
      "1  bobette.riner@ipgdirect.com    2010-02                        6\n",
      "2  bobette.riner@ipgdirect.com    2010-03                        3\n",
      "3  bobette.riner@ipgdirect.com    2010-04                        4\n",
      "4  bobette.riner@ipgdirect.com    2010-05                        1\n",
      " Monthly sentiment scores saved to 'employee_monthly_scores.csv'\n"
     ]
    }
   ],
   "source": [
    "# Renaming columns for clarity\n",
    "\n",
    "monthly_scores.rename(columns={\"sentiment_score\": \"monthly_sentiment_score\"}, inplace=True)\n",
    "print(monthly_scores.head())\n",
    "\n",
    "# Save to file\n",
    "monthly_scores.to_csv(\"employee_monthly_scores.csv\", index=False)\n",
    "print(\" Monthly sentiment scores saved to 'employee_monthly_scores.csv'\")"
   ]
  },
  {
   "cell_type": "code",
   "execution_count": 18,
   "id": "a1f65562",
   "metadata": {},
   "outputs": [
    {
     "name": "stdout",
     "output_type": "stream",
     "text": [
      " Monthly sentiment scores saved to 'employee_monthly_scores.csv'\n"
     ]
    }
   ],
   "source": [
    "# Save to file\n",
    "monthly_scores.to_csv(\"employee_monthly_scores.csv\", index=False)\n",
    "print(\" Monthly sentiment scores saved to 'employee_monthly_scores.csv'\")"
   ]
  },
  {
   "cell_type": "code",
   "execution_count": null,
   "id": "7e4079f5",
   "metadata": {},
   "outputs": [],
   "source": []
  },
  {
   "cell_type": "code",
   "execution_count": null,
   "id": "268c1c16",
   "metadata": {},
   "outputs": [],
   "source": []
  }
 ],
 "metadata": {
  "kernelspec": {
   "display_name": "Python 3 (ipykernel)",
   "language": "python",
   "name": "python3"
  },
  "language_info": {
   "codemirror_mode": {
    "name": "ipython",
    "version": 3
   },
   "file_extension": ".py",
   "mimetype": "text/x-python",
   "name": "python",
   "nbconvert_exporter": "python",
   "pygments_lexer": "ipython3",
   "version": "3.11.5"
  }
 },
 "nbformat": 4,
 "nbformat_minor": 5
}
