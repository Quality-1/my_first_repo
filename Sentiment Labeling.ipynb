{
 "cells": [
  {
   "cell_type": "markdown",
   "id": "f0749a12",
   "metadata": {},
   "source": [
    "# Task 1. Sentiment Labeling"
   ]
  },
  {
   "cell_type": "code",
   "execution_count": null,
   "id": "3f099468",
   "metadata": {},
   "outputs": [],
   "source": [
    "# import libraries for the analysis\n",
    "!pip install textblob\n",
    "from textblob import TextBlob\n",
    "import numpy as np\n",
    "import pandas as pd\n",
    "import matplotlib.pyplot as plt\n",
    "import seaborn as sns\n",
    "import re\n",
    "import warnings\n",
    "warnings.filterwarnings(\"ignore\")"
   ]
  },
  {
   "cell_type": "code",
   "execution_count": 21,
   "id": "d101911d",
   "metadata": {},
   "outputs": [
    {
     "data": {
      "text/html": [
       "<div>\n",
       "<style scoped>\n",
       "    .dataframe tbody tr th:only-of-type {\n",
       "        vertical-align: middle;\n",
       "    }\n",
       "\n",
       "    .dataframe tbody tr th {\n",
       "        vertical-align: top;\n",
       "    }\n",
       "\n",
       "    .dataframe thead th {\n",
       "        text-align: right;\n",
       "    }\n",
       "</style>\n",
       "<table border=\"1\" class=\"dataframe\">\n",
       "  <thead>\n",
       "    <tr style=\"text-align: right;\">\n",
       "      <th></th>\n",
       "      <th>Subject</th>\n",
       "      <th>body</th>\n",
       "      <th>date</th>\n",
       "      <th>from</th>\n",
       "    </tr>\n",
       "  </thead>\n",
       "  <tbody>\n",
       "    <tr>\n",
       "      <th>0</th>\n",
       "      <td>EnronOptions Update!</td>\n",
       "      <td>EnronOptions Announcement\\n\\n\\nWe have updated...</td>\n",
       "      <td>2010-05-10</td>\n",
       "      <td>sally.beck@enron.com</td>\n",
       "    </tr>\n",
       "    <tr>\n",
       "      <th>1</th>\n",
       "      <td>(No Subject)</td>\n",
       "      <td>Marc,\\n\\nUnfortunately, today is not going to ...</td>\n",
       "      <td>2010-07-29</td>\n",
       "      <td>eric.bass@enron.com</td>\n",
       "    </tr>\n",
       "    <tr>\n",
       "      <th>2</th>\n",
       "      <td>Phone Screen  Interview - Shannon L. Burnham</td>\n",
       "      <td>When: Wednesday, June 06, 2001 10:00 AM-11:00 ...</td>\n",
       "      <td>2011-07-25</td>\n",
       "      <td>sally.beck@enron.com</td>\n",
       "    </tr>\n",
       "    <tr>\n",
       "      <th>3</th>\n",
       "      <td>RE: My new work email</td>\n",
       "      <td>we were thinking papasitos (we can meet somewh...</td>\n",
       "      <td>2010-03-25</td>\n",
       "      <td>johnny.palmer@enron.com</td>\n",
       "    </tr>\n",
       "    <tr>\n",
       "      <th>4</th>\n",
       "      <td>Bet</td>\n",
       "      <td>Since you never gave me the $20 for the last t...</td>\n",
       "      <td>2011-05-21</td>\n",
       "      <td>lydia.delgado@enron.com</td>\n",
       "    </tr>\n",
       "  </tbody>\n",
       "</table>\n",
       "</div>"
      ],
      "text/plain": [
       "                                        Subject  \\\n",
       "0                          EnronOptions Update!   \n",
       "1                                  (No Subject)   \n",
       "2  Phone Screen  Interview - Shannon L. Burnham   \n",
       "3                         RE: My new work email   \n",
       "4                                           Bet   \n",
       "\n",
       "                                                body       date  \\\n",
       "0  EnronOptions Announcement\\n\\n\\nWe have updated... 2010-05-10   \n",
       "1  Marc,\\n\\nUnfortunately, today is not going to ... 2010-07-29   \n",
       "2  When: Wednesday, June 06, 2001 10:00 AM-11:00 ... 2011-07-25   \n",
       "3  we were thinking papasitos (we can meet somewh... 2010-03-25   \n",
       "4  Since you never gave me the $20 for the last t... 2011-05-21   \n",
       "\n",
       "                      from  \n",
       "0     sally.beck@enron.com  \n",
       "1      eric.bass@enron.com  \n",
       "2     sally.beck@enron.com  \n",
       "3  johnny.palmer@enron.com  \n",
       "4  lydia.delgado@enron.com  "
      ]
     },
     "execution_count": 21,
     "metadata": {},
     "output_type": "execute_result"
    }
   ],
   "source": [
    "# Load the dataset\n",
    "df = pd.read_excel(\"test.xlsx\")\n",
    "df.head()"
   ]
  },
  {
   "cell_type": "code",
   "execution_count": 22,
   "id": "0d4f73fc",
   "metadata": {},
   "outputs": [
    {
     "name": "stdout",
     "output_type": "stream",
     "text": [
      "Index(['Subject', 'body', 'date', 'from'], dtype='object')\n"
     ]
    },
    {
     "data": {
      "text/plain": [
       "(2191, 4)"
      ]
     },
     "execution_count": 22,
     "metadata": {},
     "output_type": "execute_result"
    }
   ],
   "source": [
    "print(df.columns)\n",
    "df.shape"
   ]
  },
  {
   "cell_type": "code",
   "execution_count": 23,
   "id": "8f10d43f",
   "metadata": {},
   "outputs": [
    {
     "name": "stdout",
     "output_type": "stream",
     "text": [
      "0       enronoptions announcement we have updated the ...\n",
      "1       marc unfortunately today is not going to work ...\n",
      "2       when wednesday june 06 2001 10 00 am 11 00 am ...\n",
      "3       we were thinking papasitos we can meet somewhe...\n",
      "4       since you never gave me the 20 for the last ti...\n",
      "                              ...                        \n",
      "2186    thanks for the resume she has had some good ex...\n",
      "2187    attached please find the following documents t...\n",
      "2188    good to finally hear from judging from your e ...\n",
      "2189    it looks like we have our 12 teams we will pro...\n",
      "2190    we will need this so i am sending it to you as...\n",
      "Name: body, Length: 2191, dtype: object\n"
     ]
    }
   ],
   "source": [
    "# clean and preprocess dataset\n",
    "\n",
    "def clean_text(text):\n",
    "    text = str(text).lower()\n",
    "    text = re.sub(r'\\W', ' ', text)  # Remove special characters\n",
    "    text = re.sub(r'\\s+', ' ', text).strip()  # Remove extra spaces\n",
    "    return text\n",
    "df[\"body\"] = df[\"body\"].apply(clean_text)\n",
    "print(df[\"body\"])"
   ]
  },
  {
   "cell_type": "code",
   "execution_count": 24,
   "id": "76eca2ce",
   "metadata": {},
   "outputs": [
    {
     "name": "stdout",
     "output_type": "stream",
     "text": [
      "0       Neutral\n",
      "1       Neutral\n",
      "2       Neutral\n",
      "3       Neutral\n",
      "4       Neutral\n",
      "         ...   \n",
      "2186    Neutral\n",
      "2187    Neutral\n",
      "2188    Neutral\n",
      "2189    Neutral\n",
      "2190    Neutral\n",
      "Name: sentiment, Length: 2191, dtype: object\n"
     ]
    }
   ],
   "source": [
    "# Define a function to determine sentiment\n",
    "def label_sentiment(text):\n",
    "    polarity = TextBlob(text).sentiment.polarity\n",
    "    if polarity > 0.05:\n",
    "        return 'Positive'\n",
    "    elif polarity < -0.05:\n",
    "        return 'Negative'\n",
    "    else:\n",
    "        return 'Neutral'\n",
    "\n",
    "# Apply the function to your message column\n",
    "df['sentiment'] = df['body'].apply(label_sentiment)\n",
    "print(df['sentiment'])"
   ]
  },
  {
   "cell_type": "code",
   "execution_count": 25,
   "id": "e533f01e",
   "metadata": {},
   "outputs": [
    {
     "data": {
      "text/html": [
       "<div>\n",
       "<style scoped>\n",
       "    .dataframe tbody tr th:only-of-type {\n",
       "        vertical-align: middle;\n",
       "    }\n",
       "\n",
       "    .dataframe tbody tr th {\n",
       "        vertical-align: top;\n",
       "    }\n",
       "\n",
       "    .dataframe thead th {\n",
       "        text-align: right;\n",
       "    }\n",
       "</style>\n",
       "<table border=\"1\" class=\"dataframe\">\n",
       "  <thead>\n",
       "    <tr style=\"text-align: right;\">\n",
       "      <th></th>\n",
       "      <th>Subject</th>\n",
       "      <th>body</th>\n",
       "      <th>date</th>\n",
       "      <th>from</th>\n",
       "      <th>sentiment</th>\n",
       "    </tr>\n",
       "  </thead>\n",
       "  <tbody>\n",
       "    <tr>\n",
       "      <th>0</th>\n",
       "      <td>EnronOptions Update!</td>\n",
       "      <td>enronoptions announcement we have updated the ...</td>\n",
       "      <td>2010-05-10</td>\n",
       "      <td>sally.beck@enron.com</td>\n",
       "      <td>Neutral</td>\n",
       "    </tr>\n",
       "    <tr>\n",
       "      <th>1</th>\n",
       "      <td>(No Subject)</td>\n",
       "      <td>marc unfortunately today is not going to work ...</td>\n",
       "      <td>2010-07-29</td>\n",
       "      <td>eric.bass@enron.com</td>\n",
       "      <td>Neutral</td>\n",
       "    </tr>\n",
       "    <tr>\n",
       "      <th>2</th>\n",
       "      <td>Phone Screen  Interview - Shannon L. Burnham</td>\n",
       "      <td>when wednesday june 06 2001 10 00 am 11 00 am ...</td>\n",
       "      <td>2011-07-25</td>\n",
       "      <td>sally.beck@enron.com</td>\n",
       "      <td>Neutral</td>\n",
       "    </tr>\n",
       "    <tr>\n",
       "      <th>3</th>\n",
       "      <td>RE: My new work email</td>\n",
       "      <td>we were thinking papasitos we can meet somewhe...</td>\n",
       "      <td>2010-03-25</td>\n",
       "      <td>johnny.palmer@enron.com</td>\n",
       "      <td>Neutral</td>\n",
       "    </tr>\n",
       "    <tr>\n",
       "      <th>4</th>\n",
       "      <td>Bet</td>\n",
       "      <td>since you never gave me the 20 for the last ti...</td>\n",
       "      <td>2011-05-21</td>\n",
       "      <td>lydia.delgado@enron.com</td>\n",
       "      <td>Neutral</td>\n",
       "    </tr>\n",
       "    <tr>\n",
       "      <th>...</th>\n",
       "      <td>...</td>\n",
       "      <td>...</td>\n",
       "      <td>...</td>\n",
       "      <td>...</td>\n",
       "      <td>...</td>\n",
       "    </tr>\n",
       "    <tr>\n",
       "      <th>2186</th>\n",
       "      <td>Re: Resume</td>\n",
       "      <td>thanks for the resume she has had some good ex...</td>\n",
       "      <td>2011-06-17</td>\n",
       "      <td>johnny.palmer@enron.com</td>\n",
       "      <td>Neutral</td>\n",
       "    </tr>\n",
       "    <tr>\n",
       "      <th>2187</th>\n",
       "      <td>Final Schedule - Wednesday, May 2, 2001 - Jesu...</td>\n",
       "      <td>attached please find the following documents t...</td>\n",
       "      <td>2011-01-20</td>\n",
       "      <td>johnny.palmer@enron.com</td>\n",
       "      <td>Neutral</td>\n",
       "    </tr>\n",
       "    <tr>\n",
       "      <th>2188</th>\n",
       "      <td>(No Subject)</td>\n",
       "      <td>good to finally hear from judging from your e ...</td>\n",
       "      <td>2011-01-02</td>\n",
       "      <td>don.baughman@enron.com</td>\n",
       "      <td>Neutral</td>\n",
       "    </tr>\n",
       "    <tr>\n",
       "      <th>2189</th>\n",
       "      <td>League is Set</td>\n",
       "      <td>it looks like we have our 12 teams we will pro...</td>\n",
       "      <td>2011-03-11</td>\n",
       "      <td>rhonda.denton@enron.com</td>\n",
       "      <td>Neutral</td>\n",
       "    </tr>\n",
       "    <tr>\n",
       "      <th>2190</th>\n",
       "      <td>AirCard Activation</td>\n",
       "      <td>we will need this so i am sending it to you as...</td>\n",
       "      <td>2010-10-30</td>\n",
       "      <td>johnny.palmer@enron.com</td>\n",
       "      <td>Neutral</td>\n",
       "    </tr>\n",
       "  </tbody>\n",
       "</table>\n",
       "<p>2191 rows × 5 columns</p>\n",
       "</div>"
      ],
      "text/plain": [
       "                                                Subject  \\\n",
       "0                                  EnronOptions Update!   \n",
       "1                                          (No Subject)   \n",
       "2          Phone Screen  Interview - Shannon L. Burnham   \n",
       "3                                 RE: My new work email   \n",
       "4                                                   Bet   \n",
       "...                                                 ...   \n",
       "2186                                         Re: Resume   \n",
       "2187  Final Schedule - Wednesday, May 2, 2001 - Jesu...   \n",
       "2188                                       (No Subject)   \n",
       "2189                                      League is Set   \n",
       "2190                                 AirCard Activation   \n",
       "\n",
       "                                                   body       date  \\\n",
       "0     enronoptions announcement we have updated the ... 2010-05-10   \n",
       "1     marc unfortunately today is not going to work ... 2010-07-29   \n",
       "2     when wednesday june 06 2001 10 00 am 11 00 am ... 2011-07-25   \n",
       "3     we were thinking papasitos we can meet somewhe... 2010-03-25   \n",
       "4     since you never gave me the 20 for the last ti... 2011-05-21   \n",
       "...                                                 ...        ...   \n",
       "2186  thanks for the resume she has had some good ex... 2011-06-17   \n",
       "2187  attached please find the following documents t... 2011-01-20   \n",
       "2188  good to finally hear from judging from your e ... 2011-01-02   \n",
       "2189  it looks like we have our 12 teams we will pro... 2011-03-11   \n",
       "2190  we will need this so i am sending it to you as... 2010-10-30   \n",
       "\n",
       "                         from sentiment  \n",
       "0        sally.beck@enron.com   Neutral  \n",
       "1         eric.bass@enron.com   Neutral  \n",
       "2        sally.beck@enron.com   Neutral  \n",
       "3     johnny.palmer@enron.com   Neutral  \n",
       "4     lydia.delgado@enron.com   Neutral  \n",
       "...                       ...       ...  \n",
       "2186  johnny.palmer@enron.com   Neutral  \n",
       "2187  johnny.palmer@enron.com   Neutral  \n",
       "2188   don.baughman@enron.com   Neutral  \n",
       "2189  rhonda.denton@enron.com   Neutral  \n",
       "2190  johnny.palmer@enron.com   Neutral  \n",
       "\n",
       "[2191 rows x 5 columns]"
      ]
     },
     "execution_count": 25,
     "metadata": {},
     "output_type": "execute_result"
    }
   ],
   "source": [
    "df"
   ]
  },
  {
   "cell_type": "code",
   "execution_count": 26,
   "id": "903a3ab9",
   "metadata": {},
   "outputs": [
    {
     "name": "stdout",
     "output_type": "stream",
     "text": [
      "Sentiment labeling complete. Saved as test_labeled.csv.\n"
     ]
    }
   ],
   "source": [
    "# Save updated dataset\n",
    "df.to_csv(\"test_labeled.csv\", index=False)\n",
    "print(\"Sentiment labeling complete. Saved as test_labeled.csv.\")"
   ]
  },
  {
   "cell_type": "code",
   "execution_count": null,
   "id": "c6d0ea6b",
   "metadata": {},
   "outputs": [],
   "source": []
  }
 ],
 "metadata": {
  "kernelspec": {
   "display_name": "Python 3 (ipykernel)",
   "language": "python",
   "name": "python3"
  },
  "language_info": {
   "codemirror_mode": {
    "name": "ipython",
    "version": 3
   },
   "file_extension": ".py",
   "mimetype": "text/x-python",
   "name": "python",
   "nbconvert_exporter": "python",
   "pygments_lexer": "ipython3",
   "version": "3.11.5"
  }
 },
 "nbformat": 4,
 "nbformat_minor": 5
}
